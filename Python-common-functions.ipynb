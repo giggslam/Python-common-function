{
 "cells": [
  {
   "cell_type": "markdown",
   "metadata": {},
   "source": [
    "Start Logging for debug"
   ]
  },
  {
   "cell_type": "code",
   "execution_count": 2,
   "metadata": {},
   "outputs": [],
   "source": [
    "import logging\n",
    "logging.basicConfig(level=logging.INFO)\n",
    "logger = logging.getLogger(__name__)"
   ]
  },
  {
   "cell_type": "markdown",
   "metadata": {},
   "source": [
    "Searching a list of Dictionaries, 2018-05-16"
   ]
  },
  {
   "cell_type": "code",
   "execution_count": 6,
   "metadata": {},
   "outputs": [],
   "source": [
    "def searchListDict(dataList, key='name', value=None):\n",
    "    '''\n",
    "    Searching a list of Dictionaries\n",
    "    2018-05-16\n",
    "    \n",
    "    Param:  List of Dictionaries\n",
    "    Return: Dictionary\n",
    "    '''\n",
    "    try:\n",
    "        for l in dataList:\n",
    "            if l[key] == value:\n",
    "                return l\n",
    "\n",
    "        logger.info('No Matching')\n",
    "        return None # return None if finised looping & no matching\n",
    "\n",
    "    except:\n",
    "        logger.error('ERROR:', exc_info=True)"
   ]
  },
  {
   "cell_type": "code",
   "execution_count": 3,
   "metadata": {},
   "outputs": [
    {
     "data": {
      "text/plain": [
       "[{'age': 15, 'name': 'Tom'},\n",
       " {'age': 10, 'name': 'Andy'},\n",
       " {'age': 5, 'name': 'Pam'}]"
      ]
     },
     "execution_count": 3,
     "metadata": {},
     "output_type": "execute_result"
    }
   ],
   "source": [
    "people = [\n",
    "    {'name': \"Tom\", 'age': 15},\n",
    "    {'name': \"Andy\", 'age': 10},\n",
    "    {'name': \"Pam\", 'age': 5}\n",
    "]\n",
    "people"
   ]
  },
  {
   "cell_type": "code",
   "execution_count": 8,
   "metadata": {},
   "outputs": [
    {
     "name": "stdout",
     "output_type": "stream",
     "text": [
      "{'name': 'Pam', 'age': 5}\n"
     ]
    }
   ],
   "source": [
    "person = searchListDict(people, key='name', value='Pam')\n",
    "print(person)"
   ]
  },
  {
   "cell_type": "markdown",
   "metadata": {},
   "source": [
    "Sort list of Dictionaries, 2018-06-01"
   ]
  },
  {
   "cell_type": "code",
   "execution_count": 16,
   "metadata": {},
   "outputs": [],
   "source": [
    "def sortListDict(dataList, key='name', reverseResult=False):\n",
    "    '''\n",
    "    Searching a list of Dictionaries\n",
    "    2018-06-04\n",
    "\n",
    "    Param:  List of Dictionaries, Dict Key\n",
    "    Return: sorted List of Dictionary\n",
    "    '''\n",
    "    try:\n",
    "        sortedDataList = sorted(dataList, key=lambda k: k[key], reverse=reverseResult)\n",
    "        return sortedDataList\n",
    "    except:\n",
    "        logger.error('ERROR:', exc_info=True)"
   ]
  },
  {
   "cell_type": "code",
   "execution_count": 17,
   "metadata": {},
   "outputs": [
    {
     "data": {
      "text/plain": [
       "[{'age': 10, 'name': 'Andy'},\n",
       " {'age': 5, 'name': 'Pam'},\n",
       " {'age': 15, 'name': 'Tom'}]"
      ]
     },
     "execution_count": 17,
     "metadata": {},
     "output_type": "execute_result"
    }
   ],
   "source": [
    "newListDict = sortListDict(people, key='name')\n",
    "newListDict"
   ]
  },
  {
   "cell_type": "code",
   "execution_count": 18,
   "metadata": {},
   "outputs": [
    {
     "data": {
      "text/plain": [
       "[{'age': 15, 'name': 'Tom'},\n",
       " {'age': 5, 'name': 'Pam'},\n",
       " {'age': 10, 'name': 'Andy'}]"
      ]
     },
     "execution_count": 18,
     "metadata": {},
     "output_type": "execute_result"
    }
   ],
   "source": [
    "newListDict = sortListDict(people, key='name',reverseResult=True)\n",
    "newListDict"
   ]
  },
  {
   "cell_type": "code",
   "execution_count": 11,
   "metadata": {},
   "outputs": [
    {
     "data": {
      "text/plain": [
       "[{'age': 5, 'name': 'Pam'},\n",
       " {'age': 10, 'name': 'Andy'},\n",
       " {'age': 15, 'name': 'Tom'}]"
      ]
     },
     "execution_count": 11,
     "metadata": {},
     "output_type": "execute_result"
    }
   ],
   "source": [
    "newListDict = sortListDict(people, key='age')\n",
    "newListDict"
   ]
  },
  {
   "cell_type": "markdown",
   "metadata": {},
   "source": [
    "Get a list of value from list of dict, 2018-06-07"
   ]
  },
  {
   "cell_type": "code",
   "execution_count": 11,
   "metadata": {},
   "outputs": [
    {
     "data": {
      "text/plain": [
       "['Tom', 'Andy', 'Pam']"
      ]
     },
     "execution_count": 11,
     "metadata": {},
     "output_type": "execute_result"
    }
   ],
   "source": [
    "names = [person['name'] for person in people]\n",
    "names"
   ]
  },
  {
   "cell_type": "markdown",
   "metadata": {},
   "source": [
    "process if/else into one line (\"ternary\" expressions), 2018-06-19<br>'true' if True else 'false'<br>"
   ]
  },
  {
   "cell_type": "code",
   "execution_count": 9,
   "metadata": {},
   "outputs": [
    {
     "name": "stdout",
     "output_type": "stream",
     "text": [
      "x: 1\n"
     ]
    }
   ],
   "source": [
    "a = 2\n",
    "x = 1 if a==2 else 0\n",
    "print('x:',x)"
   ]
  },
  {
   "cell_type": "code",
   "execution_count": 10,
   "metadata": {},
   "outputs": [
    {
     "name": "stdout",
     "output_type": "stream",
     "text": [
      "x: 0\n"
     ]
    }
   ],
   "source": [
    "a = 3\n",
    "x = 1 if a==2 else 0\n",
    "print('x:',x)"
   ]
  },
  {
   "cell_type": "code",
   "execution_count": null,
   "metadata": {},
   "outputs": [],
   "source": []
  }
 ],
 "metadata": {
  "kernelspec": {
   "display_name": "Python 3",
   "language": "python",
   "name": "python3"
  },
  "language_info": {
   "codemirror_mode": {
    "name": "ipython",
    "version": 3
   },
   "file_extension": ".py",
   "mimetype": "text/x-python",
   "name": "python",
   "nbconvert_exporter": "python",
   "pygments_lexer": "ipython3",
   "version": "3.6.4"
  }
 },
 "nbformat": 4,
 "nbformat_minor": 2
}
