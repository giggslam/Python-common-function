{
 "cells": [
  {
   "cell_type": "markdown",
   "metadata": {},
   "source": [
    "Start Logging for debug"
   ]
  },
  {
   "cell_type": "code",
   "execution_count": 1,
   "metadata": {},
   "outputs": [],
   "source": [
    "import logging\n",
    "logging.basicConfig(level=logging.INFO)\n",
    "logger = logging.getLogger(__name__)"
   ]
  },
  {
   "cell_type": "markdown",
   "metadata": {},
   "source": [
    "Searching a list of Dictionaries, 2018-05-16"
   ]
  },
  {
   "cell_type": "code",
   "execution_count": 2,
   "metadata": {},
   "outputs": [],
   "source": [
    "def searchListDict(dataList, key='name', value=None):\n",
    "    '''\n",
    "    Searching a list of Dictionaries\n",
    "    2018-05-16\n",
    "    \n",
    "    Param:  List of Dictionaries\n",
    "    Return: Dictionary\n",
    "    '''\n",
    "    try:\n",
    "        for l in dataList:\n",
    "            if l[key] == value:\n",
    "                return l\n",
    "\n",
    "        logger.info('No Matching')\n",
    "        return None # return None if finised looping & no matching\n",
    "\n",
    "    except:\n",
    "        logger.error('ERROR:', exc_info=True)"
   ]
  },
  {
   "cell_type": "code",
   "execution_count": 6,
   "metadata": {},
   "outputs": [
    {
     "name": "stdout",
     "output_type": "stream",
     "text": [
      "{'name': 'Pam', 'age': 7}\n"
     ]
    }
   ],
   "source": [
    "people = [\n",
    "    {'name': \"Tom\", 'age': 10},\n",
    "    {'name': \"Mark\", 'age': 5},\n",
    "    {'name': \"Pam\", 'age': 7}\n",
    "]\n",
    "        \n",
    "person = searchListDict(people, key='name', value='Pam')\n",
    "print(person)"
   ]
  }
 ],
 "metadata": {
  "kernelspec": {
   "display_name": "Python 3",
   "language": "python",
   "name": "python3"
  },
  "language_info": {
   "codemirror_mode": {
    "name": "ipython",
    "version": 3
   },
   "file_extension": ".py",
   "mimetype": "text/x-python",
   "name": "python",
   "nbconvert_exporter": "python",
   "pygments_lexer": "ipython3",
   "version": "3.6.4"
  }
 },
 "nbformat": 4,
 "nbformat_minor": 2
}
