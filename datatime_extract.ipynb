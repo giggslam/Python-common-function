{
 "cells": [
  {
   "cell_type": "code",
   "execution_count": 35,
   "metadata": {},
   "outputs": [
    {
     "name": "stderr",
     "output_type": "stream",
     "text": [
      "Building prefix dict from /Users/ryan/Python/github/Python-common-function/data/jieba/dict.txt.big ...\n",
      "Loading model from cache /var/folders/lm/565c_3js07301sjgqpyjwpy00000gn/T/jieba.u7eb4bf76bab733c7ca02ccc176993051.cache\n",
      "Loading model cost 1.264 seconds.\n",
      "Prefix dict has been built succesfully.\n"
     ]
    }
   ],
   "source": [
    "import jieba\n",
    "jieba_dict_path = 'data/jieba/dict.txt.big'\n",
    "jieba_userdict_path = 'data/jieba/userdict.datetime.txt'\n",
    "jieba_stopwords_path = 'data/jieba/stop_words.txt'\n",
    "\n",
    "jieba.set_dictionary(jieba_dict_path) # Set Chinese Traditional\n",
    "jieba.load_userdict(jieba_userdict_path) # Load User Customized Dict\n",
    "# with open(r'%s' % self.jieba_stopwords_path, 'r', encoding='utf8') as f:\n",
    "#     self.jieba_stopword_list = [line.strip() for line in f]\n",
    "jieba.initialize() # Init at startup"
   ]
  },
  {
   "cell_type": "code",
   "execution_count": 75,
   "metadata": {},
   "outputs": [],
   "source": [
    "#日期识别\n",
    "\n",
    "\n",
    "\n",
    "import re\n",
    "from datetime import datetime,timedelta\n",
    "from dateutil.parser import parse\n",
    "import jieba.posseg as psg\n",
    "\n",
    "UTIL_CN_NUM = {\n",
    "    '零': 0, '一': 1, '二': 2, '兩': 2, '三': 3, '四': 4,\n",
    "    '五': 5, '六': 6, '七': 7, '八': 8, '九': 9,\n",
    "    '0': 0, '1': 1, '2': 2, '3': 3, '4': 4,\n",
    "    '5': 5, '6': 6, '7': 7, '8': 8, '9': 9\n",
    "}\n",
    "\n",
    "UTIL_CN_UNIT = {'十': 10, '百': 100, '千': 1000, '萬': 10000}\n",
    "\n",
    "def cn2dig(src):\n",
    "    if src == \"\":\n",
    "        return None\n",
    "    m = re.match(\"\\d+\", src)\n",
    "    if m:\n",
    "        return int(m.group(0))\n",
    "    rsl = 0\n",
    "    unit = 1\n",
    "    for item in src[::-1]:\n",
    "        if item in UTIL_CN_UNIT.keys():\n",
    "            unit = UTIL_CN_UNIT[item]\n",
    "        elif item in UTIL_CN_NUM.keys():\n",
    "            num = UTIL_CN_NUM[item]\n",
    "            rsl += num * unit\n",
    "        else:\n",
    "            return None\n",
    "    if rsl < unit:\n",
    "        rsl += unit\n",
    "    return rsl\n",
    "\n",
    "def year2dig(year):\n",
    "    res = ''\n",
    "    for item in year:\n",
    "        if item in UTIL_CN_NUM.keys():\n",
    "            res = res + str(UTIL_CN_NUM[item])\n",
    "        else:\n",
    "            res = res + item\n",
    "    m = re.match(\"\\d+\", res)\n",
    "    if m:\n",
    "        if len(m.group(0)) == 2:\n",
    "            return int(datetime.datetime.today().year/100)*100 + int(m.group(0))\n",
    "        else:\n",
    "            return int(m.group(0))\n",
    "    else:\n",
    "        return None\n",
    "\n",
    "def parse_datetime(msg):\n",
    "    if msg is None or len(msg) == 0:\n",
    "        return None\n",
    "\n",
    "    print('parse_datetime, msg: %s' % msg)\n",
    "    try:\n",
    "        dt = parse(msg, fuzzy=True)\n",
    "        return dt.strftime('%Y-%m-%d %H:%M:%S')\n",
    "    except Exception as e:\n",
    "        print('parse_datetime try to change chinese char')\n",
    "        m = re.match(\n",
    "            r\"([0-9零一二两兩三四五六七八九十]+年)?([0-9一二两兩三四五六七八九十]+月)?([0-9一二两兩三四五六七八九十]+[号號日])?([上中下午晚早]+)?([0-9零一二两三四五六七八九十百]+[点:\\.时])?([0-9零一二三四五六七八九十百]+分?)?([0-9零一二三四五六七八九十百]+秒)?\",\n",
    "            msg)\n",
    "        if m.group(0) is not None:\n",
    "            res = {\n",
    "                \"year\": m.group(1),\n",
    "                \"month\": m.group(2),\n",
    "                \"day\": m.group(3),\n",
    "                \"hour\": m.group(5) if m.group(5) is not None else '00',\n",
    "                \"minute\": m.group(6) if m.group(6) is not None else '00',\n",
    "                \"second\": m.group(7) if m.group(7) is not None else '00',\n",
    "            }\n",
    "            params = {}\n",
    "            print('res: %s' %s)\n",
    "            \n",
    "            for name in res:\n",
    "                if res[name] is not None and len(res[name]) != 0:\n",
    "                    tmp = None\n",
    "                    if name == 'year':\n",
    "                        tmp = year2dig(res[name][:-1])\n",
    "                    else:\n",
    "                        tmp = cn2dig(res[name][:-1])\n",
    "                    if tmp is not None:\n",
    "                        params[name] = int(tmp)\n",
    "            target_date = datetime.today().replace(**params)\n",
    "            is_pm = m.group(4)\n",
    "            if is_pm is not None:\n",
    "                if is_pm == u'下午' or is_pm == u'晚上' or is_pm =='中午':\n",
    "                    hour = target_date.time().hour\n",
    "                    if hour < 12:\n",
    "                        target_date = target_date.replace(hour=hour + 12)\n",
    "            return target_date.strftime('%Y-%m-%d %H:%M:%S')\n",
    "        else:\n",
    "            return None\n",
    "\n",
    "\n",
    "\n",
    "def check_time_valid(word):\n",
    "    m = re.match(\"\\d+$\", word)\n",
    "    if m:\n",
    "        if len(word) <= 6:\n",
    "            return None\n",
    "    word1 = re.sub('[号|号|號|日]\\d+$', '日', word)\n",
    "    if word1 != word:\n",
    "        return check_time_valid(word1)\n",
    "    else:\n",
    "        return word1\n",
    "\n",
    "#时间提取\n",
    "def time_extract(text):\n",
    "\n",
    "    time_res = []\n",
    "    word = ''\n",
    "    keyDate = {'今天': 0, '明天':1, '聽日': 1, '后天': 2, '後天': 2, '後日': 2,}\n",
    "    for k, v in psg.cut(text):\n",
    "        if k in keyDate:\n",
    "            if word != '':\n",
    "                time_res.append(word)\n",
    "            word = (datetime.today() + timedelta(days=keyDate.get(k, 0))).strftime('%Y年%m月%d日')\n",
    "            print('word: %s' % word)\n",
    "        elif word != '':\n",
    "            if v in ['m', 't']:\n",
    "                word = word + k\n",
    "            else:\n",
    "                time_res.append(word)\n",
    "                word = ''\n",
    "        elif v in ['m', 't']:\n",
    "            word = k\n",
    "    if word != '':\n",
    "        time_res.append(word)\n",
    "    print('time_res: %s' % time_res)\n",
    "    result = list(filter(lambda x: x is not None, [check_time_valid(w) for w in time_res]))\n",
    "    print('result: %s' % result)\n",
    "    final_res = [parse_datetime(w) for w in result]\n",
    "\n",
    "    return [x for x in final_res if x is not None]\n",
    "\n"
   ]
  },
  {
   "cell_type": "code",
   "execution_count": 76,
   "metadata": {},
   "outputs": [
    {
     "name": "stdout",
     "output_type": "stream",
     "text": [
      "我 r\n",
      "要 v\n",
      "住 v\n",
      "到 v\n",
      "明天 t\n",
      "下午 t\n",
      "3 m\n",
      "點 m\n",
      "word: 2019年03月04日\n",
      "time_res: ['2019年03月04日下午3點']\n",
      "result: ['2019年03月04日下午3點']\n",
      "parse_datetime, msg: 2019年03月04日下午3點\n"
     ]
    },
    {
     "data": {
      "text/plain": [
       "['2003-03-04 00:00:00']"
      ]
     },
     "execution_count": 76,
     "metadata": {},
     "output_type": "execute_result"
    }
   ],
   "source": [
    "text1 = '我要住到明天下午3點'\n",
    "for v, k in psg.cut(text1):\n",
    "    print(v, k)\n",
    "time_extract(text1)"
   ]
  },
  {
   "cell_type": "code",
   "execution_count": 72,
   "metadata": {},
   "outputs": [
    {
     "ename": "AttributeError",
     "evalue": "'str' object has no attribute 'strftime'",
     "output_type": "error",
     "traceback": [
      "\u001b[0;31m---------------------------------------------------------------------------\u001b[0m",
      "\u001b[0;31mAttributeError\u001b[0m                            Traceback (most recent call last)",
      "\u001b[0;32m<ipython-input-72-1f4f0343d60a>\u001b[0m in \u001b[0;36m<module>\u001b[0;34m\u001b[0m\n\u001b[1;32m      1\u001b[0m \u001b[0mt\u001b[0m \u001b[0;34m=\u001b[0m \u001b[0;34m'2019年03月04日下午3點'\u001b[0m\u001b[0;34m\u001b[0m\u001b[0;34m\u001b[0m\u001b[0m\n\u001b[0;32m----> 2\u001b[0;31m \u001b[0mt\u001b[0m\u001b[0;34m.\u001b[0m\u001b[0mstrftime\u001b[0m\u001b[0;34m(\u001b[0m\u001b[0;34m)\u001b[0m\u001b[0;34m\u001b[0m\u001b[0;34m\u001b[0m\u001b[0m\n\u001b[0m",
      "\u001b[0;31mAttributeError\u001b[0m: 'str' object has no attribute 'strftime'"
     ]
    }
   ],
   "source": [
    "t = '2019年03月04日下午3點'\n",
    "t.strftime()"
   ]
  },
  {
   "cell_type": "code",
   "execution_count": 52,
   "metadata": {},
   "outputs": [
    {
     "name": "stdout",
     "output_type": "stream",
     "text": [
      "word: 2019年03月04日\n",
      "我要住到明天下午三点:['2019-03-04 00:00:00']\n",
      "预定28号4点的房间:['2019-03-28 04:00:00']\n",
      "我要从26号下午4点住到11月2号:['2019-03-26 16:00:00', '2019-11-02 00:00:00']\n",
      "word: 2019年03月03日\n",
      "我要预订今天到30號的房间:['2019-03-03 00:00:00', '2019-03-30 00:00:00']\n",
      "word: 2019年03月03日\n",
      "今天30号呵呵:['2030-03-03 00:00:00']\n"
     ]
    }
   ],
   "source": [
    "text1 = '我要住到明天下午三点'\n",
    "print(text1, time_extract(text1), sep=':')\n",
    "\n",
    "text2 = '预定28号4点的房间'\n",
    "print(text2, time_extract(text2), sep=':')\n",
    "\n",
    "text3 = '我要从26号下午4点住到11月2号'\n",
    "print(text3, time_extract(text3), sep=':')\n",
    "\n",
    "text4 = '我要预订今天到30號的房间'\n",
    "print(text4, time_extract(text4), sep=':')\n",
    "\n",
    "text5 = '今天30号呵呵'\n",
    "print(text5, time_extract(text5), sep=':')"
   ]
  },
  {
   "cell_type": "code",
   "execution_count": null,
   "metadata": {
    "collapsed": true
   },
   "outputs": [],
   "source": [
    "\n",
    "\n"
   ]
  }
 ],
 "metadata": {
  "kernelspec": {
   "display_name": "Python 3",
   "language": "python",
   "name": "python3"
  },
  "language_info": {
   "codemirror_mode": {
    "name": "ipython",
    "version": 3
   },
   "file_extension": ".py",
   "mimetype": "text/x-python",
   "name": "python",
   "nbconvert_exporter": "python",
   "pygments_lexer": "ipython3",
   "version": "3.7.2"
  }
 },
 "nbformat": 4,
 "nbformat_minor": 2
}
